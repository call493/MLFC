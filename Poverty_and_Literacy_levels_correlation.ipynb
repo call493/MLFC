{
  "cells": [
    {
      "cell_type": "markdown",
      "metadata": {
        "id": "view-in-github",
        "colab_type": "text"
      },
      "source": [
        "<a href=\"https://colab.research.google.com/github/call493/MLFC/blob/main/Poverty_and_Literacy_levels_correlation.ipynb\" target=\"_parent\"><img src=\"https://colab.research.google.com/assets/colab-badge.svg\" alt=\"Open In Colab\"/></a>"
      ]
    },
    {
      "cell_type": "markdown",
      "metadata": {
        "id": "LJJx-XlRUsdY"
      },
      "source": [
        "# **Exploring the link between literacy rates and poverty in Kenya - A Socio-Economic Analysis**\n",
        "\n",
        "\n",
        "\n",
        "---\n",
        "\n",
        "\n",
        "\n",
        "Braxton Mandara, DSAIL\n",
        "\n",
        "15-09-2025"
      ]
    },
    {
      "cell_type": "markdown",
      "metadata": {
        "id": "TFk-B_JCTvQ9"
      },
      "source": [
        "# **OSMnx Setup**\n",
        "\n",
        "Installing Python packages which we will use to download, model and analyze map features and other spatial data from OpenStreetMap.*italicized text*\n",
        "\n"
      ]
    },
    {
      "cell_type": "code",
      "execution_count": null,
      "metadata": {
        "id": "o8BCaRk-TLZI"
      },
      "outputs": [],
      "source": [
        "%%capture\n",
        "%pip install osmnx"
      ]
    },
    {
      "cell_type": "code",
      "execution_count": null,
      "metadata": {
        "id": "BXehC5ygVm58"
      },
      "outputs": [],
      "source": [
        "import osmnx as ox\n",
        "import matplotlib.pyplot as plt\n",
        "import warnings\n",
        "import math\n",
        "import pandas as pd\n",
        "\n",
        "warnings.filterwarnings(\"ignore\", category=FutureWarning, module='osmnx')"
      ]
    },
    {
      "cell_type": "markdown",
      "metadata": {
        "id": "Vw22ZezaV2Tx"
      },
      "source": [
        "Plotting map of Kenya"
      ]
    },
    {
      "cell_type": "code",
      "source": [
        "!git clone https://github.com/call493/fynesse\n",
        "import sys\n",
        "sys.path.append(\"/content/fynesse\")"
      ],
      "metadata": {
        "id": "NqsZ6hGNFEE4"
      },
      "execution_count": null,
      "outputs": []
    },
    {
      "cell_type": "code",
      "source": [
        "import fynesse"
      ],
      "metadata": {
        "id": "LeRQNGFAFMvZ"
      },
      "execution_count": null,
      "outputs": []
    },
    {
      "cell_type": "code",
      "source": [
        "fynesse.access.plot_map(\"Kenya\")"
      ],
      "metadata": {
        "id": "y9uDnv8DFQD6"
      },
      "execution_count": null,
      "outputs": []
    },
    {
      "cell_type": "code",
      "execution_count": null,
      "metadata": {
        "id": "ZViob0ymXINu"
      },
      "outputs": [],
      "source": [
        "import geopandas as gpd\n",
        "import matplotlib.pyplot as plt\n",
        "\n",
        "# URL to the GeoJSON file for Kenyan counties (ADM1) from GeoBoundaries\n",
        "geojson_url = \"https://github.com/wmgeolab/geoBoundaries/raw/9469f09/releaseData/gbOpen/KEN/ADM1/geoBoundaries-KEN-ADM1.geojson\"\n",
        "\n",
        "gdf = gpd.read_file(geojson_url)\n",
        "\n",
        "fig, ax = plt.subplots(figsize=(10, 10))\n",
        "gdf.boundary.plot(ax=ax, edgecolor='blue', linewidth=1)\n",
        "\n",
        "ax.set_title(\"Kenya County Boundaries\")\n",
        "\n",
        "plt.show()"
      ]
    },
    {
      "cell_type": "markdown",
      "metadata": {
        "id": "cDeSgZJvmI56"
      },
      "source": [
        "# School locations on the map"
      ]
    },
    {
      "cell_type": "markdown",
      "source": [
        "I proceed to look at how primary schools are distributed in the country using the school geolocation (coordinates) data from schools.json file which has details for Kenyan schools in the year 2020.\n",
        "\n",
        "https://energydata.info/dataset/kenya-schools#"
      ],
      "metadata": {
        "id": "nM30FfuSdWHA"
      }
    },
    {
      "cell_type": "code",
      "execution_count": null,
      "metadata": {
        "id": "oStFb0TpkxUx"
      },
      "outputs": [],
      "source": [
        "import geopandas as gpd\n",
        "import matplotlib.pyplot as plt\n",
        "import os\n",
        "\n",
        "schools_file = \"https://raw.githubusercontent.com/call493/MLFC/main/schools.json\"\n",
        "\n",
        "geojson_url = \"https://github.com/wmgeolab/geoBoundaries/raw/9469f09/releaseData/gbOpen/KEN/ADM1/geoBoundaries-KEN-ADM1.geojson\"\n",
        "\n",
        "# County boundaries\n",
        "kenya_gdf = gpd.read_file(geojson_url)\n",
        "\n",
        "# Load schools data\n",
        "schools_gdf = gpd.read_file(schools_file)\n",
        "\n",
        "# Reproject schools to match counties\n",
        "schools_gdf = schools_gdf.to_crs(kenya_gdf.crs)\n",
        "\n",
        "# Distinguish public and private schools\n",
        "public_schools = schools_gdf[schools_gdf[\"Status\"] == \"Public\"]\n",
        "private_schools = schools_gdf[schools_gdf[\"Status\"] == \"Private\"]\n",
        "\n",
        "fig, ax = plt.subplots(figsize=(12, 12))\n",
        "kenya_gdf.boundary.plot(ax=ax, edgecolor=\"black\", linewidth=0.8)\n",
        "\n",
        "public_schools.plot(ax=ax, color=\"blue\", markersize=1, label=\"Public Schools\")\n",
        "private_schools.plot(ax=ax, color=\"red\", markersize=1, label=\"Private Schools\")\n",
        "\n",
        "ax.set_title(\"Primary Schools in Kenya (Public vs Private)\", fontsize=12)\n",
        "ax.legend()\n",
        "\n",
        "plt.show()"
      ]
    },
    {
      "cell_type": "code",
      "metadata": {
        "id": "4c7bc75e"
      },
      "source": [
        "display(kenya_gdf.head())\n",
        "\n",
        "# info about the geodataframe\n",
        "print(\"\\nGeoDataFrame Info:\")\n",
        "kenya_gdf.info()\n",
        "\n",
        "# convert it to a regular pandas DataFrame (excluding the geometry column)\n",
        "kenya_df = pd.DataFrame(kenya_gdf)\n",
        "display(kenya_df.head())"
      ],
      "execution_count": null,
      "outputs": []
    },
    {
      "cell_type": "code",
      "source": [
        "print(schools_gdf[\"LEVEL\"].unique())\n",
        "print(schools_gdf[\"LEVEL\"].value_counts())\n"
      ],
      "metadata": {
        "id": "4rA0yPT6uCvs"
      },
      "execution_count": null,
      "outputs": []
    },
    {
      "cell_type": "markdown",
      "source": [
        "Looking at data for primary and secondary schools"
      ],
      "metadata": {
        "id": "-qLcqbafxn4r"
      }
    },
    {
      "cell_type": "code",
      "source": [
        "import geopandas as gpd\n",
        "import matplotlib.pyplot as plt\n",
        "import os\n",
        "import requests\n",
        "import zipfile\n",
        "\n",
        "# Shapefile ZIP URL (direct download)\n",
        "schools_zip_url = \"https://github.com/call493/MLFC/raw/main/schools.zip\"\n",
        "local_zip_path = \"schools.zip\"\n",
        "extracted_dir = \"schools_extracted\"\n",
        "\n",
        "# County boundaries (national, ADM1)\n",
        "geojson_url = \"https://github.com/wmgeolab/geoBoundaries/raw/9469f09/releaseData/gbOpen/KEN/ADM1/geoBoundaries-KEN-ADM1.geojson\"\n",
        "\n",
        "# Load Kenya counties\n",
        "kenya_gdf = gpd.read_file(geojson_url)\n",
        "\n",
        "# Download the zip file\n",
        "print(f\"Downloading {schools_zip_url}...\")\n",
        "response = requests.get(schools_zip_url)\n",
        "response.raise_for_status() # Raise an exception for bad status codes\n",
        "with open(local_zip_path, 'wb') as f:\n",
        "    f.write(response.content)\n",
        "print(f\"Downloaded to {local_zip_path}\")\n",
        "\n",
        "# Extract the zip file\n",
        "print(f\"Extracting {local_zip_path}...\")\n",
        "with zipfile.ZipFile(local_zip_path, 'r') as zip_ref:\n",
        "    zip_ref.extractall(extracted_dir)\n",
        "print(f\"Extracted to {extracted_dir}\")\n",
        "\n",
        "# Find the shapefile (.shp) in the extracted directory\n",
        "shp_file = None\n",
        "for root, _, files in os.walk(extracted_dir):\n",
        "    for file in files:\n",
        "        if file.endswith(\".shp\"):\n",
        "            shp_file = os.path.join(root, file)\n",
        "            break\n",
        "    if shp_file:\n",
        "        break\n",
        "\n",
        "if shp_file:\n",
        "    print(f\"Shapefile found at: {shp_file}\")\n",
        "    # Load all school points from the local shapefile\n",
        "    all_schools_gdf = gpd.read_file(shp_file)\n",
        "\n",
        "    # Reproject schools to match counties\n",
        "    all_schools_gdf = all_schools_gdf.to_crs(kenya_gdf.crs)\n",
        "\n",
        "    # Filter by education level\n",
        "    primary_schools = all_schools_gdf[all_schools_gdf[\"LEVEL\"].str.lower() == \"primary\"]\n",
        "    secondary_schools = all_schools_gdf[all_schools_gdf[\"LEVEL\"].str.lower() == \"secondary\"]\n",
        "\n",
        "    fig, ax = plt.subplots(figsize=(12, 12))\n",
        "    kenya_gdf.boundary.plot(ax=ax, edgecolor=\"black\", linewidth=0.8)\n",
        "\n",
        "    if not primary_schools.empty:\n",
        "        primary_schools.plot(ax=ax, color=\"green\", markersize=5, label=\"Primary Schools\")\n",
        "    if not secondary_schools.empty:\n",
        "        secondary_schools.plot(ax=ax, color=\"blue\", markersize=5, label=\"Secondary Schools\")\n",
        "\n",
        "    ax.set_title(\"Schools in Kenya (Primary vs Secondary)\", fontsize=12)\n",
        "    ax.legend()\n",
        "    plt.show()\n",
        "else:\n",
        "    print(\"Shapefile (.shp) not found in the extracted directory.\")"
      ],
      "metadata": {
        "id": "J15ir5V5sj5J"
      },
      "execution_count": null,
      "outputs": []
    },
    {
      "cell_type": "code",
      "source": [
        "print(\"Number of PRIMARY schools:\", len(primary_schools))\n",
        "print(\"Number of SECONDARY schools:\", len(secondary_schools))\n",
        "\n",
        "print(\"Ratio of primary to secondary schools:\", len(primary_schools) / len(secondary_schools) if len(secondary_schools) > 0 else \"Undefined (no secondary schools)\")\n"
      ],
      "metadata": {
        "id": "yz9WE7pry7vZ"
      },
      "execution_count": null,
      "outputs": []
    },
    {
      "cell_type": "code",
      "source": [
        "print(all_schools_gdf.columns)\n"
      ],
      "metadata": {
        "id": "VMq0T89H0NJU"
      },
      "execution_count": null,
      "outputs": []
    },
    {
      "cell_type": "markdown",
      "metadata": {
        "id": "6bdfb43f"
      },
      "source": [
        "## Obtain and Prepare Population Data\n",
        "\n",
        "The Kenya National Bureau of Statistics (KNBS) provides population data. I will search for the 2019 Census data which includes population counts by county. I will use the data from the following source:\n",
        "\n",
        "https://www.knbs.or.ke/wp-content/uploads/2023/09/2019-Kenya-population-and-Housing-Census-Volume-1-Population-By-County-And-Sub-County.pdf\n",
        "\n",
        "Specifically, the 2019 Kenya Population and Housing Census results. I will look for data at the county level. The dataset used here was extracted from the PDF containing the population census report (page 7)."
      ]
    },
    {
      "cell_type": "code",
      "metadata": {
        "id": "14a8fad5"
      },
      "source": [
        "import pandas as pd\n",
        "import os\n",
        "\n",
        "population_file_url = \"https://raw.githubusercontent.com/call493/MLFC/main/kenya_population_by_county_2019.csv\"\n",
        "\n",
        "try:\n",
        "    population_df = pd.read_csv(population_file_url)\n",
        "    print(\"Population data loaded successfully!\")\n",
        "    display(population_df.head())\n",
        "except Exception as e:\n",
        "    print(f\"An error occurred while reading the CSV file: {e}\")"
      ],
      "execution_count": null,
      "outputs": []
    },
    {
      "cell_type": "markdown",
      "metadata": {
        "id": "d073514b"
      },
      "source": [
        "### Merge Population Data with County Boundaries\n",
        "\n",
        "Now, I will merge the population data with the county boundaries GeoDataFrame. I will use the 'County' column in the population DataFrame and the 'ADM1NAME' column in the county GeoDataFrame as the common key for merging. I will perform a left merge to keep all the county geometries and add the population data where a match is found."
      ]
    },
    {
      "cell_type": "code",
      "metadata": {
        "id": "5983e083"
      },
      "source": [
        "# It's important to check if the county names match exactly in both dataframes.\n",
        "# Let's print the unique county names from both dataframes to compare.\n",
        "print(\"Unique counties in population_df:\")\n",
        "print(population_df['County'].unique())\n",
        "\n",
        "print(\"\\nColumns in kenya_gdf:\")\n",
        "print(kenya_gdf['shapeName'].unique())"
      ],
      "execution_count": null,
      "outputs": []
    },
    {
      "cell_type": "markdown",
      "source": [
        "The names do not match, let us see the output we will get when we plot a population heatmap"
      ],
      "metadata": {
        "id": "5_QM5WUyayCA"
      }
    },
    {
      "cell_type": "markdown",
      "metadata": {
        "id": "bd2eabd5"
      },
      "source": [
        "### Population Heatmap by County\n",
        "\n",
        "This heatmap visualizes the population distribution across Kenyan counties based on the 2019 census data. Counties with higher populations are shown in darker shades, while those with lower populations are in lighter shades."
      ]
    },
    {
      "cell_type": "code",
      "metadata": {
        "id": "c92b8489"
      },
      "source": [
        "# Normalize county names for matching\n",
        "population_df[\"County\"] = population_df[\"County\"].str.strip().str.upper()\n",
        "kenya_gdf[\"shapeName\"] = kenya_gdf[\"shapeName\"].str.strip().str.upper()\n",
        "\n",
        "# Merge population with county boundaries\n",
        "merged = kenya_gdf.merge(population_df, left_on=\"shapeName\", right_on=\"County\", how=\"left\")\n",
        "\n",
        "# Plot heatmap\n",
        "fig, ax = plt.subplots(figsize=(12, 12))\n",
        "merged.plot(\n",
        "    column=\"Total\",          # population column\n",
        "    cmap=\"OrRd\",             # color scheme (Orange-Red)\n",
        "    linewidth=0.8,\n",
        "    edgecolor=\"black\",\n",
        "    legend=True,\n",
        "    ax=ax\n",
        ")\n",
        "\n",
        "ax.set_title(\"2019 Kenya Population Distribution by County\", fontsize=16)\n",
        "ax.axis(\"off\")\n",
        "\n",
        "plt.show()\n"
      ],
      "execution_count": null,
      "outputs": []
    },
    {
      "cell_type": "markdown",
      "source": [
        "Same map but for interactivity using follium"
      ],
      "metadata": {
        "id": "JeXXOrGacTMq"
      }
    },
    {
      "cell_type": "code",
      "source": [
        "import folium\n",
        "from folium.plugins import HeatMap\n",
        "import geopandas as gpd\n",
        "import pandas as pd\n",
        "\n",
        "population_df[\"County\"] = population_df[\"County\"].str.strip().str.upper()\n",
        "kenya_gdf[\"shapeName\"] = kenya_gdf[\"shapeName\"].str.strip().str.upper()\n",
        "\n",
        "merged = kenya_gdf.merge(population_df, left_on=\"shapeName\", right_on=\"County\", how=\"left\")\n",
        "\n",
        "kenya_center = [0.0236, 37.9062]\n",
        "\n",
        "geojson_data = merged.to_json()\n",
        "\n",
        "m = folium.Map(location=kenya_center, zoom_start=6, tiles='cartodbpositron')\n",
        "\n",
        "folium.Choropleth(\n",
        "    geo_data=geojson_data,\n",
        "    data=merged,\n",
        "    columns=[\"shapeName\", \"Total\"],  # 'Total' is population\n",
        "    key_on=\"feature.properties.shapeName\",\n",
        "    fill_color=\"OrRd\",\n",
        "    fill_opacity=1,\n",
        "    line_opacity=0.1,\n",
        "    legend_name=\"Population (2019)\"\n",
        ").add_to(m)\n",
        "\n",
        "folium.GeoJson(\n",
        "    geojson_data,\n",
        "    name=\"County Boundaries\",\n",
        "    tooltip=folium.GeoJsonTooltip(fields=[\"shapeName\", \"Total\"],\n",
        "                                  aliases=[\"County:\", \"Population:\"])\n",
        ").add_to(m)\n",
        "\n",
        "m"
      ],
      "metadata": {
        "id": "hevNlfF7bX8N"
      },
      "execution_count": null,
      "outputs": []
    },
    {
      "cell_type": "markdown",
      "source": [
        "From the look of things we are do not have population data for the following counties: Elgeyo Marakwet, Tharaka Nithi, Taita Taveta and Nairobi.\n",
        "\n",
        "Why is that?\n",
        "\n",
        "> The population datadata and the GeoDataFrame have different column names for these counties.\n",
        "\n",
        "In that case we have to normalize to ensure that the merge works and we have a heatmap that covers data for all counties.\n",
        "\n"
      ],
      "metadata": {
        "id": "8etgZIDg_t_4"
      }
    },
    {
      "cell_type": "code",
      "source": [
        "print(population_df['County'].unique())"
      ],
      "metadata": {
        "id": "Q8dLfKd9nT53"
      },
      "execution_count": null,
      "outputs": []
    },
    {
      "cell_type": "code",
      "source": [],
      "metadata": {
        "id": "yk0LbpcdxRX_"
      },
      "execution_count": null,
      "outputs": []
    },
    {
      "cell_type": "markdown",
      "source": [
        "Let us use assess county name function."
      ],
      "metadata": {
        "id": "FNo94CIdxxCd"
      }
    },
    {
      "cell_type": "code",
      "source": [
        "from fynesse.assess import normalize_county_names  # Or adjust import if necessary\n",
        "\n",
        "# Apply to population DataFrame\n",
        "population_df['County'] = population_df['County'].apply(normalize_county_names)\n",
        "\n",
        "# Apply to geodataframe\n",
        "kenya_gdf['shapeName'] = kenya_gdf['shapeName'].apply(normalize_county_names)\n",
        "\n",
        "merged = kenya_gdf.merge(population_df, left_on='shapeName', right_on='County', how='left')\n"
      ],
      "metadata": {
        "id": "E8y0P5bRR-A8"
      },
      "execution_count": null,
      "outputs": []
    },
    {
      "cell_type": "code",
      "source": [
        "# Check for any remaining mismatches\n",
        "pop_counties = set(population_df['County'].unique())\n",
        "geo_counties = set(kenya_gdf['shapeName'].unique())\n",
        "\n",
        "print(f\"\\nPopulation counties: {len(pop_counties)}\")\n",
        "print(f\"Geographic counties: {len(geo_counties)}\")\n",
        "print(f\"\\nCounties in population data but not in geographic data: {pop_counties - geo_counties}\")\n",
        "print(f\"Counties in geographic data but not in population data: {geo_counties - pop_counties}\")\n",
        "\n",
        "# Check for missing data\n",
        "missing = merged[merged[\"Total\"].isna()][[\"shapeName\"]]\n",
        "print(f\"\\nCounties with missing population data: {len(missing)}\")\n",
        "if len(missing) > 0:\n",
        "    print(missing)"
      ],
      "metadata": {
        "id": "-1usl--ZsvTW"
      },
      "execution_count": null,
      "outputs": []
    },
    {
      "cell_type": "code",
      "source": [
        "print(\"Unique counties in population_df:\")\n",
        "print(population_df['County'].unique())"
      ],
      "metadata": {
        "id": "W2C4fm2HpHIj"
      },
      "execution_count": null,
      "outputs": []
    },
    {
      "cell_type": "markdown",
      "source": [
        "Now let us check to confirm that the data has been normalized."
      ],
      "metadata": {
        "id": "nyMjJX_HBVCR"
      }
    },
    {
      "cell_type": "code",
      "source": [
        "fig, ax = plt.subplots(figsize=(12, 12))\n",
        "merged.plot(\n",
        "    column=\"Total\",          # population column\n",
        "    cmap=\"OrRd\",             # color scheme (Orange-Red)\n",
        "    linewidth=0.8,\n",
        "    edgecolor=\"black\",\n",
        "    legend=True,\n",
        "    ax=ax\n",
        ")\n",
        "\n",
        "ax.set_title(\"2019 Kenya Population Distribution by County\", fontsize=16)\n",
        "ax.axis(\"off\")\n",
        "\n",
        "plt.show()\n",
        "\n",
        "#works perfect"
      ],
      "metadata": {
        "id": "l4ROgeZ-t68r"
      },
      "execution_count": null,
      "outputs": []
    },
    {
      "cell_type": "markdown",
      "source": [
        "Let us proceed to make a comparison between the number of primary schools and secondary schools in each county."
      ],
      "metadata": {
        "id": "Ryj4Kwkmc21p"
      }
    },
    {
      "cell_type": "code",
      "source": [
        "import plotly.express as px\n",
        "\n",
        "counts = all_schools_gdf.groupby(['County', 'LEVEL']).size().unstack(fill_value=0).reset_index()\n",
        "\n",
        "fig = px.scatter(\n",
        "    counts,\n",
        "    x='Primary',\n",
        "    y='Secondary',\n",
        "    text='County',\n",
        "    hover_name='County',\n",
        "    labels={'Primary': 'Primary', 'Secondary': 'Secondary'},\n",
        "    title='Primary vs Secondary Schools by County in Kenya',\n",
        ")\n",
        "\n",
        "fig.update_traces(marker=dict(size=10, opacity=0.7))\n",
        "fig.update_traces(textposition='top right')\n",
        "fig.update_layout(showlegend=False)\n",
        "fig.show()\n"
      ],
      "metadata": {
        "id": "uPJahy_21VkB"
      },
      "execution_count": null,
      "outputs": []
    },
    {
      "cell_type": "code",
      "source": [
        "import plotly.express as px\n",
        "\n",
        "counts = all_schools_gdf.groupby(['County', 'LEVEL']).size().unstack(fill_value=0).reset_index()\n",
        "\n",
        "fig = px.scatter(\n",
        "    counts,\n",
        "    x='Primary',\n",
        "    y='Secondary',\n",
        "    hover_name='County',\n",
        "    labels={'Primary': 'Number of Primary Schools', 'Secondary': 'Number of Secondary Schools'},\n",
        "    title='Primary vs Secondary Schools by County in Kenya',\n",
        ")\n",
        "\n",
        "fig.update_traces(marker=dict(size=10, opacity=0.7))\n",
        "fig.update_layout(showlegend=False)\n",
        "fig.show()\n"
      ],
      "metadata": {
        "id": "oPCTRYbq3UkM"
      },
      "execution_count": null,
      "outputs": []
    },
    {
      "cell_type": "markdown",
      "source": [
        "Same distribution on a map"
      ],
      "metadata": {
        "id": "u8_55S5ZdKL2"
      }
    },
    {
      "cell_type": "code",
      "source": [
        "import geopandas as gpd\n",
        "import pandas as pd\n",
        "import folium\n",
        "from folium.plugins import MarkerCluster\n",
        "import zipfile\n",
        "import requests\n",
        "import os\n",
        "\n",
        "schools_zip_url = \"https://github.com/call493/MLFC/raw/main/schools.zip\"\n",
        "local_zip_path = \"schools.zip\"\n",
        "extracted_dir = \"schools_extracted\"\n",
        "\n",
        "response = requests.get(schools_zip_url)\n",
        "with open(local_zip_path, \"wb\") as f:\n",
        "    f.write(response.content)\n",
        "with zipfile.ZipFile(local_zip_path, \"r\") as zip_ref:\n",
        "    zip_ref.extractall(extracted_dir)\n",
        "\n",
        "shp_file = None\n",
        "for root, _, files in os.walk(extracted_dir):\n",
        "    for file in files:\n",
        "        if file.endswith(\".shp\"):\n",
        "            shp_file = os.path.join(root, file)\n",
        "            break\n",
        "    if shp_file:\n",
        "        break\n",
        "\n",
        "all_schools_gdf = gpd.read_file(shp_file)\n",
        "geojson_url = \"https://github.com/wmgeolab/geoBoundaries/raw/9469f09/releaseData/gbOpen/KEN/ADM1/geoBoundaries-KEN-ADM1.geojson\"\n",
        "kenya_gdf = gpd.read_file(geojson_url)\n",
        "all_schools_gdf = all_schools_gdf.to_crs(kenya_gdf.crs)\n",
        "\n",
        "from fynesse.assess import normalize_county_names\n",
        "\n",
        "all_schools_gdf['County'] = all_schools_gdf['County'].apply(normalize_county_names)\n",
        "kenya_gdf['shapeName'] = kenya_gdf['shapeName'].apply(normalize_county_names)\n",
        "\n",
        "school_counts = all_schools_gdf.groupby(['County', 'LEVEL']).size().unstack(fill_value=0)\n",
        "\n",
        "kenya_gdf = kenya_gdf.merge(school_counts, how='left', left_on='shapeName', right_index=True)\n",
        "kenya_gdf[\"Primary\"] = kenya_gdf[\"Primary\"].fillna(0).astype(int)\n",
        "kenya_gdf[\"Secondary\"] = kenya_gdf[\"Secondary\"].fillna(0).astype(int)\n",
        "\n",
        "m = folium.Map(location=[0.2, 37.5], zoom_start=6)  # Centered for Kenya\n",
        "\n",
        "folium.Choropleth(\n",
        "    geo_data=kenya_gdf,\n",
        "    name='Primary Schools',\n",
        "    data=kenya_gdf,\n",
        "    columns=['shapeName', 'Primary'],\n",
        "    key_on='feature.properties.shapeName',\n",
        "    fill_color='Greens',\n",
        "    fill_opacity=0.6,\n",
        "    line_opacity=0.4,\n",
        "    legend_name='Number of Primary Schools'\n",
        ").add_to(m)\n",
        "\n",
        "folium.Choropleth(\n",
        "    geo_data=kenya_gdf,\n",
        "    name='Secondary Schools',\n",
        "    data=kenya_gdf,\n",
        "    columns=['shapeName', 'Secondary'],\n",
        "    key_on='feature.properties.shapeName',\n",
        "    fill_color='Blues',\n",
        "    fill_opacity=0.4,\n",
        "    line_opacity=0.2,\n",
        "    legend_name='Number of Secondary Schools'\n",
        ").add_to(m)\n",
        "\n",
        "folium.GeoJson(\n",
        "    kenya_gdf,\n",
        "    name=\"Counties\",\n",
        "    style_function=lambda x: {'fillColor': '#00000000', 'color': 'black', 'weight': 1},\n",
        "    tooltip=folium.GeoJsonTooltip(\n",
        "        fields=['shapeName', 'Primary', 'Secondary'],\n",
        "        aliases=['County', 'Primary Schools', 'Secondary Schools']),\n",
        ").add_to(m)\n",
        "\n",
        "folium.LayerControl().add_to(m)\n",
        "m.save(\"schools_counties.html\")\n",
        "m\n"
      ],
      "metadata": {
        "id": "e54rmlAKaDBC"
      },
      "execution_count": null,
      "outputs": []
    },
    {
      "cell_type": "markdown",
      "metadata": {
        "id": "6fa14cb1"
      },
      "source": [
        "### Combined Map: Population Heatmap and Schools\n",
        "\n",
        "This map visualizes the population distribution across Kenyan counties as a heatmap, along with the locations of public and private schools."
      ]
    },
    {
      "cell_type": "code",
      "source": [
        "merged = kenya_gdf.merge(population_df, left_on=\"shapeName\", right_on=\"County\", how=\"left\")\n",
        "\n",
        "schools_gdf = schools_gdf.to_crs(kenya_gdf.crs)\n",
        "public_schools = schools_gdf[schools_gdf[\"Status\"] == \"Public\"]\n",
        "private_schools = schools_gdf[schools_gdf[\"Status\"] == \"Private\"]\n",
        "\n",
        "fig, ax = plt.subplots(figsize=(16, 16))\n",
        "\n",
        "# Plot population heatmap\n",
        "merged.plot(\n",
        "    column=\"Total\",\n",
        "    cmap=\"YlOrRd\",\n",
        "    linewidth=0.8,\n",
        "    edgecolor=\"black\",\n",
        "    legend=True,\n",
        "    ax=ax,\n",
        "    alpha=0.8,\n",
        "    legend_kwds={'label': \"Population (2019)\", 'orientation': \"vertical\", 'shrink': 0.6}\n",
        ")\n",
        "\n",
        "# Overlay schools\n",
        "public_schools.plot(ax=ax, color=\"blue\", markersize=4, label=\"Public Schools\", alpha=0.7)\n",
        "private_schools.plot(ax=ax, color=\"red\", markersize=4, label=\"Private Schools\", alpha=0.7)\n",
        "\n",
        "ax.set_title(\n",
        "    \"Kenya: Population Distribution (2019) with School Locations\\nPublic vs Private Schools Overlay\",\n",
        "    fontsize=18, fontweight='bold', pad=20\n",
        ")\n",
        "ax.axis(\"off\")\n",
        "ax.legend(loc='upper right', bbox_to_anchor=(0.98, 0.98))\n",
        "\n",
        "total_public = len(public_schools)\n",
        "total_private = len(private_schools)\n",
        "stats_text = f\"Total Schools:\\nPublic: {total_public:,}\\nPrivate: {total_private:,}\"\n",
        "ax.text(0.02, 0.98, stats_text,\n",
        "        transform=ax.transAxes, fontsize=12,\n",
        "        verticalalignment='top',\n",
        "        bbox=dict(boxstyle=\"round,pad=0.5\", facecolor=\"white\", alpha=0.9))\n",
        "\n",
        "plt.tight_layout()\n",
        "plt.show()\n",
        "\n",
        "print(f\"\\n=== COMBINED HEATMAP SUMMARY ===\")\n",
        "print(f\"Total counties visualized: {len(merged)}\")\n",
        "print(f\"Public schools plotted: {total_public:,}\")\n",
        "print(f\"Private schools plotted: {total_private:,}\")\n",
        "print(f\"Total schools: {total_public + total_private:,}\")\n",
        "print(f\"Total population (2019): {merged['Total'].sum():,.0f}\")\n",
        "print(f\"Average population per county: {merged['Total'].mean():,.0f}\")\n"
      ],
      "metadata": {
        "id": "uyQ1LXo2gs5_"
      },
      "execution_count": null,
      "outputs": []
    },
    {
      "cell_type": "markdown",
      "source": [
        "[https://www.knbs.or.ke/wp-content/uploads/2023/09/2019-Kenya-population-and-Housing-Census-Analytical-Report-on-Education-and-Training.pdf](https://www.knbs.or.ke/wp-content/uploads/2023/09/2019-Kenya-population-and-Housing-Census-Analytical-Report-on-Education-and-Training.pdf)\n"
      ],
      "metadata": {
        "id": "P6kdNnAVhCM_"
      }
    },
    {
      "cell_type": "markdown",
      "source": [
        "From the heatmap with school locations we can see that:\n",
        "\n",
        "*   Certain regions can easily access schools more than other places because of the availability of schools.\n",
        "*   Regions with high populations have more schools than areas with low population.\n",
        "\n",
        "Having access to schools does not automatically mean that people will enrol to these institutions and complete successfully.\n"
      ],
      "metadata": {
        "id": "I5RnY1IkCX8x"
      }
    },
    {
      "cell_type": "markdown",
      "source": [
        "# Literacy In Kenya"
      ],
      "metadata": {
        "id": "emG5J9DNDbmh"
      }
    },
    {
      "cell_type": "markdown",
      "source": [
        "According to UNESCO https://www.theglobaleconomy.com/Kenya/Literacy_rate/ Kenya's literacy rate is at 82.88%.\n",
        "\n",
        "To bring things into proper perspective, basic literacy can be defined as the ability to both read and write with understanding a short, simple statement about everyday life in English or Kiswahili."
      ],
      "metadata": {
        "id": "DsPrj3otDfmL"
      }
    },
    {
      "cell_type": "code",
      "source": [
        "import pandas as pd\n",
        "df = pd.read_csv('https://raw.githubusercontent.com/call493/MLFC/main/kenya_literacy_2019.csv')\n",
        "display(df.head())"
      ],
      "metadata": {
        "id": "3IFZYxnQ-5Sy"
      },
      "execution_count": null,
      "outputs": []
    },
    {
      "cell_type": "code",
      "source": [
        "# Load the poverty rate dataset\n",
        "import pandas as pd\n",
        "\n",
        "# Load poverty data from the specified URL\n",
        "poverty_df = pd.read_csv('https://raw.githubusercontent.com/call493/MLFC/main/kenya_poverty_2019.csv')\n",
        "print(\"Poverty data loaded successfully!\")\n",
        "print(f\"Poverty dataset shape: {poverty_df.shape}\")\n",
        "print(f\"Poverty dataset columns: {poverty_df.columns.tolist()}\")\n",
        "display(poverty_df.head())"
      ],
      "metadata": {
        "id": "KI2_VnKthCxU"
      },
      "execution_count": null,
      "outputs": []
    },
    {
      "cell_type": "code",
      "source": [
        "# Merge poverty_df with the previously loaded literacy dataset\n",
        "# First, let's examine both dataframes and ensure proper column names\n",
        "print(\"Columns in poverty_df:\", poverty_df.columns.tolist())\n",
        "print(\"Columns in df (literacy):\", df.columns.tolist())\n",
        "\n",
        "# Check county names to identify any inconsistencies\n",
        "print(\"\\nCounties in poverty_df:\")\n",
        "print(sorted(poverty_df['County'].unique()))\n",
        "print(\"\\nCounties in literacy df:\")\n",
        "print(sorted(df['County'].unique()))\n",
        "\n",
        "# Clean and normalize county names for merging\n",
        "poverty_df['County'] = poverty_df['County'].str.strip().str.title()\n",
        "df['County'] = df['County'].str.strip().str.title()\n",
        "\n",
        "# Merge dataframes on County column\n",
        "merged_df = pd.merge(df, poverty_df, on='County', how='outer', indicator=True)\n",
        "\n",
        "print(\"\\nMerged dataframe shape:\", merged_df.shape)\n",
        "print(\"\\nMerged dataframe columns:\", merged_df.columns.tolist())\n",
        "display(merged_df.head())\n",
        "\n",
        "# Check for missing or mismatched counties\n",
        "left_only = merged_df[merged_df['_merge'] == 'left_only']\n",
        "right_only = merged_df[merged_df['_merge'] == 'right_only']\n",
        "both = merged_df[merged_df['_merge'] == 'both']\n",
        "\n",
        "print(f\"\\nCounties in literacy data only (missing in poverty data): {len(left_only)}\")\n",
        "if len(left_only) > 0:\n",
        "    print(left_only[['County']])\n",
        "\n",
        "print(f\"\\nCounties in poverty data only (missing in literacy data): {len(right_only)}\")\n",
        "if len(right_only) > 0:\n",
        "    print(right_only[['County']])\n",
        "\n",
        "print(f\"\\nCounties successfully merged: {len(both)}\")\n",
        "\n",
        "# Diagnostic: Check for counties with missing data from either dataset\n",
        "missing_data_counties = merged_df[merged_df.isna().any(axis=1)]\n",
        "print(f\"\\nCounties with missing data after merge: {len(missing_data_counties)}\")\n",
        "if len(missing_data_counties) > 0:\n",
        "    print(missing_data_counties[['County', '_merge']])"
      ],
      "metadata": {
        "id": "112M7PA__z0B"
      },
      "execution_count": null,
      "outputs": []
    },
    {
      "cell_type": "code",
      "source": [
        "# Perform additional analysis with merged_df\n",
        "# Clean the merged dataset by removing mismatched counties\n",
        "final_df = merged_df[merged_df['_merge'] == 'both'].copy()\n",
        "final_df = final_df.drop(columns=['_merge'])\n",
        "\n",
        "print(f\"Final dataset shape: {final_df.shape}\")\n",
        "print(f\"Final dataset columns: {final_df.columns.tolist()}\")\n",
        "\n",
        "# Display statistics for the final merged dataset\n",
        "print(\"\\n=== MERGED DATASET SUMMARY ===\")\n",
        "print(f\"Counties successfully merged: {len(final_df)}\")\n",
        "print(f\"Literacy Rate - Mean: {final_df['Literacy_Rate_Percent'].mean():.1f}%, Std: {final_df['Literacy_Rate_Percent'].std():.1f}%\")\n",
        "print(f\"Poverty Rate - Mean: {final_df['Headcount_Rate_Percent'].mean():.1f}%, Std: {final_df['Headcount_Rate_Percent'].std():.1f}%\")\n",
        "\n",
        "# Display the cleaned merged dataframe\n",
        "display(final_df.head())\n",
        "\n",
        "# Check for any remaining missing values\n",
        "missing_vals = final_df.isnull().sum()\n",
        "print(\"\\nMissing values per column:\")\n",
        "for col in final_df.columns:\n",
        "    if missing_vals[col] > 0:\n",
        "        print(f\"{col}: {missing_vals[col]}\")\n",
        "\n",
        "if missing_vals.sum() == 0:\n",
        "    print(\"No missing values in the final dataset!\")\n",
        "\n",
        "# Save the cleaned merged dataset for correlation analysis\n",
        "final_df.to_csv('poverty_literacy_merged_clean_2019.csv', index=False)\n",
        "print(\"\\nCleaned merged dataset saved as 'poverty_literacy_merged_clean_2019.csv'\")\n",
        "print(\"Ready for correlation and regression analysis!\")\n",
        "\n",
        "# Set the final dataframe as the working dataset for analysis\n",
        "df_analysis = final_df.copy()\n",
        "print(f\"\\nWorking dataset 'df_analysis' created with {len(df_analysis)} counties\")\n",
        "print(\"Dataset ready for correlation and regression analysis in subsequent cells.\")\n",
        "\n",
        "# Quick correlation preview\n",
        "from scipy.stats import pearsonr\n",
        "corr_coef, p_value = pearsonr(df_analysis['Headcount_Rate_Percent'], df_analysis['Literacy_Rate_Percent'])\n",
        "print(f\"\\nQuick correlation preview:\")\n",
        "print(f\"Pearson correlation: {corr_coef:.3f} (p-value: {p_value:.2e})\")\n",
        "\n",
        "if p_value < 0.05:\n",
        "    print(\"The correlation is statistically significant!\")\n",
        "else:\n",
        "    print(\"The correlation is not statistically significant.\")"
      ],
      "metadata": {
        "id": "IjmnzP5J__Dr"
      },
      "execution_count": null,
      "outputs": []
    },
    {
      "cell_type": "code",
      "source": [
        "print(df.columns.tolist())\n",
        "# Or, if your cleaned frame is called final_df\n",
        "print(final_df.columns.tolist())\n"
      ],
      "metadata": {
        "id": "nX31U7EWO8jP"
      },
      "execution_count": null,
      "outputs": []
    },
    {
      "cell_type": "code",
      "source": [
        "# Use the merged dataframe with all columns\n",
        "import pandas as pd\n",
        "import matplotlib.pyplot as plt\n",
        "import seaborn as sns\n",
        "from scipy.stats import pearsonr, spearmanr\n",
        "\n",
        "# Assuming your merged DataFrame is named final_df\n",
        "final_df = final_df.dropna(subset=['Headcount_Rate_Percent', 'Literacy_Rate_Percent'])\n",
        "\n",
        "print(final_df.head())\n",
        "\n",
        "plt.figure(figsize=(10,6))\n",
        "sns.regplot(x='Headcount_Rate_Percent', y='Literacy_Rate_Percent', data=final_df)\n",
        "plt.title('Correlation between Poverty Rate and Literacy Rate (2019)')\n",
        "plt.xlabel('Poverty Rate (%)')\n",
        "plt.ylabel('Literacy Rate (%)')\n",
        "plt.grid(True)\n",
        "plt.show()\n",
        "\n",
        "pearson_corr, pearson_p = pearsonr(final_df['Headcount_Rate_Percent'], final_df['Literacy_Rate_Percent'])\n",
        "spearman_corr, spearman_p = spearmanr(final_df['Headcount_Rate_Percent'], final_df['Literacy_Rate_Percent'])\n",
        "\n",
        "print(f\"Pearson correlation coefficient: {pearson_corr:.3f} (p-value: {pearson_p:.3g})\")\n",
        "print(f\"Spearman correlation coefficient: {spearman_corr:.3f} (p-value: {spearman_p:.3g})\")\n",
        "\n",
        "final_df.to_csv('poverty_literacy_merged_2019.csv', index=False)\n"
      ],
      "metadata": {
        "id": "tfaA7LB3PKxe"
      },
      "execution_count": null,
      "outputs": []
    },
    {
      "cell_type": "code",
      "source": [
        "import pandas as pd\n",
        "import matplotlib.pyplot as plt\n",
        "import seaborn as sns\n",
        "from scipy.stats import pearsonr, spearmanr\n",
        "\n",
        "# Assuming your DataFrame is already merged as 'df'\n",
        "\n",
        "# Drop any rows with missing data (optional)\n",
        "df = df.dropna(subset=['Headcount_Rate_Percent', 'Literacy_Rate_Percent'])\n",
        "\n",
        "# Show the dataframe to verify columns\n",
        "print(df.head())\n",
        "\n",
        "# Scatter plot with regression line\n",
        "plt.figure(figsize=(10,6))\n",
        "sns.regplot(x='Headcount_Rate_Percent', y='Literacy_Rate_Percent', data=df)\n",
        "plt.title('Correlation between Poverty Rate and Literacy Rate (2019)')\n",
        "plt.xlabel('Poverty Rate (%)')\n",
        "plt.ylabel('Literacy Rate (%)')\n",
        "plt.grid(True)\n",
        "plt.show()\n",
        "\n",
        "# Calculate and print Pearson and Spearman correlation coefficients\n",
        "pearson_corr, pearson_p = pearsonr(df['Headcount_Rate_Percent'], df['Literacy_Rate_Percent'])\n",
        "spearman_corr, spearman_p = spearmanr(df['Headcount_Rate_Percent'], df['Literacy_Rate_Percent'])\n",
        "\n",
        "print(f\"Pearson correlation coefficient: {pearson_corr:.3f} (p-value: {pearson_p:.3g})\")\n",
        "print(f\"Spearman correlation coefficient: {spearman_corr:.3f} (p-value: {spearman_p:.3g})\")\n",
        "\n",
        "# (Optional) Save the merged file for review\n",
        "df.to_csv('poverty_literacy_merged_2019.csv', index=False)\n"
      ],
      "metadata": {
        "id": "aCf2Jj56GBAZ"
      },
      "execution_count": null,
      "outputs": []
    },
    {
      "cell_type": "markdown",
      "source": [
        "These results indicate a strong negative correlation between poverty rate and literacy rate across Kenya’s counties for 2019:\n",
        "\n",
        "Pearson correlation coefficient: -0.841\n",
        "\n",
        "This value is close to -1, meaning as poverty rates increase, literacy rates tend to decrease in a nearly linear pattern.\n",
        "\n",
        "The p-value (1.72e-12) is extremely small, indicating this result is highly statistically significant—the likelihood that this correlation is due to random chance is virtually zero.\n",
        "\n",
        "Spearman correlation coefficient: -0.785\n",
        "\n",
        "This also shows a strong negative relationship, based on ranking the counties (not just the exact values).\n",
        "\n",
        "The small p-value (4.54e-10) again means the evidence is very strong statistically.\n",
        "\n",
        "Counties with higher poverty rates have much lower literacy rates, and this inverse association is very strong in your data and extremely unlikely to have occurred by chance.\n",
        "\n",
        "If you visualize this with your scatterplot, you should see that the counties generally fall along a downward trend line.\n",
        "You can now confidently report:\n",
        "\n",
        "“There is a strong, statistically significant negative correlation between county-level poverty and literacy rates in Kenya (2019).”"
      ],
      "metadata": {
        "id": "36sLKwSAGeXe"
      }
    },
    {
      "cell_type": "markdown",
      "source": [
        "### 1. Identify Outlier Counties\n",
        "Outliers are counties whose literacy rates are unusually high or low compared to what you’d expect for their poverty level."
      ],
      "metadata": {
        "id": "qUAWpXfJ4AHI"
      }
    },
    {
      "cell_type": "code",
      "source": [
        "import numpy as np\n",
        "from sklearn.linear_model import LinearRegression\n",
        "\n",
        "# Use the merged DataFrame\n",
        "X = final_df[['Headcount_Rate_Percent']]\n",
        "y = final_df['Literacy_Rate_Percent']\n",
        "model = LinearRegression().fit(X, y)\n",
        "final_df['pred_lit'] = model.predict(X)\n",
        "final_df['residual'] = y - final_df['pred_lit']\n",
        "\n",
        "# Sort counties by absolute residuals (largest outliers first)\n",
        "outliers = final_df.loc[abs(final_df['residual']).sort_values(ascending=False).index][\n",
        "    ['County', 'Headcount_Rate_Percent', 'Literacy_Rate_Percent', 'pred_lit', 'residual']\n",
        "]\n",
        "print(\"Top outlier counties:\\n\", outliers.head(10))\n"
      ],
      "metadata": {
        "id": "l0xh3gOPPjp6"
      },
      "execution_count": null,
      "outputs": []
    },
    {
      "cell_type": "code",
      "source": [
        "import numpy as np\n",
        "\n",
        "# Calculate residuals from a linear fit\n",
        "from sklearn.linear_model import LinearRegression\n",
        "\n",
        "X = df[['Headcount_Rate_Percent']]\n",
        "y = df['Literacy_Rate_Percent']\n",
        "model = LinearRegression().fit(X, y)\n",
        "df['pred_lit'] = model.predict(X)\n",
        "df['residual'] = y - df['pred_lit']\n",
        "\n",
        "# Sort counties by absolute residuals (largest outliers first)\n",
        "outliers = df.loc[abs(df['residual']).sort_values(ascending=False).index][['County', 'Headcount_Rate_Percent', 'Literacy_Rate_Percent', 'pred_lit', 'residual']]\n",
        "print(\"Top outlier counties:\\n\", outliers.head(10))\n"
      ],
      "metadata": {
        "id": "CoGqZPVjG-4_"
      },
      "execution_count": null,
      "outputs": []
    },
    {
      "cell_type": "markdown",
      "source": [
        "### 2. Multivariate Regression\n",
        "\n",
        "Suppose you have other relevant columns in your dataframe, like teacher-pupil ratio (Teacher_Pupil_Ratio), school access (Avg_Distance_to_School), or population (Population_Thousands). Here’s how you add them:"
      ],
      "metadata": {
        "id": "KwgLqm_iHNHO"
      }
    },
    {
      "cell_type": "code",
      "source": [
        "import statsmodels.api as sm\n",
        "\n",
        "# Use your actual available predictors\n",
        "predictors = [\n",
        "    'Headcount_Rate_Percent',\n",
        "    'Population_Thousands',\n",
        "    'Poverty_Gap_Percent',      # additional poverty metric (optional)\n",
        "    'Severity_Percent',         # additional poverty metric (optional)\n",
        "    # Add/remove columns as desired based on your dataframe\n",
        "]\n",
        "predictors = [col for col in predictors if col in df.columns]\n",
        "\n",
        "X = df[predictors]\n",
        "X = sm.add_constant(X)\n",
        "y = df['Literacy_Rate_Percent']\n",
        "\n",
        "model = sm.OLS(y, X).fit()\n",
        "print(model.summary())"
      ],
      "metadata": {
        "id": "to1asrBIHE_Y"
      },
      "execution_count": null,
      "outputs": []
    },
    {
      "cell_type": "code",
      "source": [
        "import statsmodels.api as sm\n",
        "\n",
        "# Use your actual available predictors\n",
        "predictors = [\n",
        "    'Headcount_Rate_Percent',\n",
        "    'Population_Thousands',\n",
        "    'Poverty_Gap_Percent',      # additional poverty metric (optional)\n",
        "    'Severity_Percent',         # additional poverty metric (optional)\n",
        "    # Add/remove columns as desired based on your dataframe\n",
        "]\n",
        "# Filter predictors to only those present in the merged dataframe\n",
        "predictors = [col for col in predictors if col in final_df.columns]\n",
        "\n",
        "X = final_df[predictors]\n",
        "X = sm.add_constant(X)\n",
        "y = final_df['Literacy_Rate_Percent']\n",
        "\n",
        "model = sm.OLS(y, X).fit()\n",
        "print(model.summary())\n"
      ],
      "metadata": {
        "id": "G2MQFIBwPx18"
      },
      "execution_count": null,
      "outputs": []
    },
    {
      "cell_type": "markdown",
      "source": [
        "Key Takeaways\n",
        "\n",
        "Model fit (R-squared = 0.710):\n",
        "71% of the variation in county literacy rates is explained by your four predictors (poverty rate, poverty gap, poverty severity, and population).\n",
        "This is considered a strong fit.\n",
        "\n",
        "Predictor coefficients & significance:\n",
        "The most important part of interpretation is the coefficients and their p-values:\n",
        "\n",
        "const (Intercept): 95.65 (the predicted literacy rate if all other values are zero; not usually interpreted on its own)\n",
        "\n",
        "Headcount_Rate_Percent: -0.2375\n",
        "Negative, as expected, but p-value = 0.687, not statistically significant (i.e., doesn't rule out chance).\n",
        "\n",
        "Population_Thousands: 0.0005, p = 0.761 (not significant)\n",
        "\n",
        "Poverty_Gap_Percent: -1.68, p = 0.596 (not significant)\n",
        "\n",
        "Severity_Percent: 1.89, p = 0.591 (not significant)\n",
        "\n",
        "A statistically significant coefficient usually has p < 0.05.\n",
        "\n",
        "Overall model significance (F-statistic p = 9.06e-10):\n",
        "Your combined model is statistically significant (very likely to mirror a true association in the population).\n",
        "\n",
        "Multicollinearity warning (\"condition number is large, ... strong multicollinearity\"):\n",
        "Several poverty measures in your model are highly correlated with each other. Multicollinearity makes it hard to separate their individual effects. This leads to unstable and/or non-significant individual coefficients—even if the group is important together.\n",
        "\n",
        "What to Do Next\n",
        "Keep only one of the correlated poverty metrics (like just Headcount_Rate_Percent) to reduce multicollinearity.\n",
        "\n",
        "If you add independent factors like “distance to school,” “teacher-pupil ratio,” or “infrastructure,” you’ll get clearer interpretations.\n",
        "\n",
        "Interpretation Tip:\n",
        "The model as a whole predicts literacy levels across counties well, and you see the expected negative direction for Headcount_Rate_Percent, but overlapping predictor information clouds the significance of individual variables. The strongest message remains that poverty is negatively associated with literacy at the county level.\n",
        "\n",
        "Summary:\n",
        "\n",
        "Your model fits well overall (high R²).\n",
        "\n",
        "The poverty and education variables are so highly correlated (collinear) that their individual effects aren’t statistically distinguishable with your current predictors.\n",
        "\n",
        "Use fewer, more independent predictors for clearer insight.\n",
        "\n",
        "With additional independent regional variables, your model's interpretation power increases!\n",
        "\n",
        "If you want help pruning variables or choosing additional predictors, let me know!"
      ],
      "metadata": {
        "id": "wvEgpZZMIuM9"
      }
    },
    {
      "cell_type": "markdown",
      "source": [
        "Classification"
      ],
      "metadata": {
        "id": "eC4PvcodJEnA"
      }
    },
    {
      "cell_type": "code",
      "source": [
        "import pandas as pd\n",
        "from sklearn.model_selection import train_test_split\n",
        "from sklearn.linear_model import LogisticRegression\n",
        "from sklearn.metrics import classification_report, confusion_matrix\n",
        "\n",
        "# Assuming your merged DataFrame is still named df and includes the following columns:\n",
        "# 'Headcount_Rate_Percent', 'Poverty_Gap_Percent', 'Severity_Percent', 'Population_Thousands', 'Literacy_Rate_Percent'\n",
        "\n",
        "# 1. Create a high/low literacy target based on the median\n",
        "median_lit = df['Literacy_Rate_Percent'].median()\n",
        "df['high_literacy'] = (df['Literacy_Rate_Percent'] >= median_lit).astype(int)\n",
        "\n",
        "# 2. Define predictors (pick those available in your dataset)\n",
        "predictors = [\n",
        "    'Headcount_Rate_Percent',\n",
        "    'Poverty_Gap_Percent',\n",
        "    'Severity_Percent',\n",
        "    'Population_Thousands'\n",
        "]\n",
        "\n",
        "# 3. Feature matrix (X) and target vector (y)\n",
        "X = df[predictors]\n",
        "y = df['high_literacy']\n",
        "\n",
        "# 4. Train-test split\n",
        "X_train, X_test, y_train, y_test = train_test_split(\n",
        "    X, y, test_size=0.3, random_state=42, stratify=y\n",
        ")\n",
        "\n",
        "# 5. Fit logistic regression\n",
        "clf = LogisticRegression()\n",
        "clf.fit(X_train, y_train)\n",
        "\n",
        "# 6. Predict on test set\n",
        "y_pred = clf.predict(X_test)\n",
        "\n",
        "# 7. Evaluation\n",
        "print(\"Confusion Matrix:\\n\", confusion_matrix(y_test, y_pred))\n",
        "print(classification_report(y_test, y_pred, target_names=['Low Literacy', 'High Literacy']))"
      ],
      "metadata": {
        "id": "avN1uw4PHeh9"
      },
      "execution_count": null,
      "outputs": []
    },
    {
      "cell_type": "code",
      "source": [
        "import pandas as pd\n",
        "from sklearn.model_selection import train_test_split\n",
        "from sklearn.linear_model import LogisticRegression\n",
        "from sklearn.metrics import classification_report, confusion_matrix\n",
        "\n",
        "# Use your merged DataFrame (final_df)\n",
        "median_lit = final_df['Literacy_Rate_Percent'].median()\n",
        "final_df['high_literacy'] = (final_df['Literacy_Rate_Percent'] >= median_lit).astype(int)\n",
        "\n",
        "# Define predictors (ensure columns exist)\n",
        "predictors = [\n",
        "    'Headcount_Rate_Percent',\n",
        "    'Poverty_Gap_Percent',\n",
        "    'Severity_Percent',\n",
        "    'Population_Thousands'\n",
        "]\n",
        "predictors = [col for col in predictors if col in final_df.columns]\n",
        "\n",
        "# Feature matrix (X) and target vector (y)\n",
        "X = final_df[predictors]\n",
        "y = final_df['high_literacy']\n",
        "\n",
        "# Train-test split\n",
        "X_train, X_test, y_train, y_test = train_test_split(\n",
        "    X, y, test_size=0.3, random_state=42, stratify=y\n",
        ")\n",
        "\n",
        "# Fit logistic regression\n",
        "clf = LogisticRegression()\n",
        "clf.fit(X_train, y_train)\n",
        "\n",
        "# Predict on test set\n",
        "y_pred = clf.predict(X_test)\n",
        "\n",
        "# Evaluation\n",
        "print(\"Confusion Matrix:\\n\", confusion_matrix(y_test, y_pred))\n",
        "print(classification_report(y_test, y_pred, target_names=['Low Literacy', 'High Literacy']))\n"
      ],
      "metadata": {
        "id": "HJj2snFyP9i7"
      },
      "execution_count": null,
      "outputs": []
    },
    {
      "cell_type": "markdown",
      "source": [
        "Classification Report:\n",
        "Low Literacy:\n",
        "\n",
        "Precision (0.56): Of counties predicted as “Low Literacy,” 56% are actually low literacy.\n",
        "\n",
        "Recall (0.83): Of all actual “Low Literacy” counties, 83% were correctly predicted.\n",
        "\n",
        "F1-score (0.67): Harmonic mean of precision and recall.\n",
        "\n",
        "High Literacy:\n",
        "\n",
        "Precision (0.75): Of counties predicted as “High Literacy,” 75% are correct.\n",
        "\n",
        "Recall (0.43): Of all actual high literacy counties, only 43% were correctly identified.\n",
        "\n",
        "F1-score (0.55): Lower due to missing more “High Literacy” cases.\n",
        "\n",
        "Overall Accuracy:\n",
        "\n",
        "0.62 (62%) — The model correctly classifies 62% of counties."
      ],
      "metadata": {
        "id": "48XNCOpVJWmo"
      }
    },
    {
      "cell_type": "markdown",
      "source": [
        "### Step 1: Reduce Collinear Predictors\n",
        "Only keep one poverty-related variable, such as Headcount_Rate_Percent.\n",
        "Why? Using multiple similar poverty indices creates redundancy and statistical noise."
      ],
      "metadata": {
        "id": "jKb-SBmmLibN"
      }
    },
    {
      "cell_type": "code",
      "source": [
        "import statsmodels.api as sm\n",
        "\n",
        "# Use only the main poverty metric and basic population if available\n",
        "predictors = ['Headcount_Rate_Percent', 'Population_Thousands']\n",
        "X = df[predictors]\n",
        "X = sm.add_constant(X)\n",
        "y = df['Literacy_Rate_Percent']\n",
        "\n",
        "model = sm.OLS(y, X).fit()\n",
        "print(model.summary())"
      ],
      "metadata": {
        "id": "dYQGbwPFJGqV"
      },
      "execution_count": null,
      "outputs": []
    },
    {
      "cell_type": "code",
      "source": [
        "import statsmodels.api as sm\n",
        "\n",
        "# Use only the main poverty metric and basic population if available\n",
        "predictors = ['Headcount_Rate_Percent', 'Population_Thousands']\n",
        "predictors = [col for col in predictors if col in final_df.columns]\n",
        "X = final_df[predictors]\n",
        "X = sm.add_constant(X)\n",
        "y = final_df['Literacy_Rate_Percent']\n",
        "\n",
        "model = sm.OLS(y, X).fit()\n",
        "print(model.summary())\n"
      ],
      "metadata": {
        "id": "F3atU-JXQJhF"
      },
      "execution_count": null,
      "outputs": []
    },
    {
      "cell_type": "markdown",
      "source": [
        "#### 1. Model Fit\n",
        "\n",
        "R-squared: 0.707\n",
        "About 71% of the variation in literacy rates is explained by your model—this is strong for social science data.\n",
        "\n",
        "#### 2. Coefficients\n",
        "\n",
        "Intercept (const): 97.28\n",
        "Theoretically, if poverty and population were zero, literacy rate would be about 97% (not literally meaningful, but shows baseline in the model).\n",
        "\n",
        "Headcount_Rate_Percent: -0.53\n",
        "Interpretation: For each 1 percentage point increase in poverty rate, the literacy rate decreases by about 0.53 percentage points.\n",
        "\n",
        "p-value: 0.000 — Statistically highly significant. This is a real, robust effect.\n",
        "\n",
        "Population_Thousands: Not significant (p = 0.821)\n",
        "\n",
        "This predictor does not have a meaningful independent effect in your data.\n",
        "\n",
        "#### 3. Statistical Notes\n",
        "\n",
        "The “condition number” is a little high, but not extreme. Multicollinearity seems manageable here because you are only using two predictors, and only “population” is weak, not causing instability.\n",
        "\n",
        "What to Do Next\n",
        "Insight: Poverty rate is the dominant and statistically significant independent predictor of literacy in your dataset.\n",
        "\n",
        "Improvement: Drop non-significant predictors like Population_Thousands. Next, focus on bringing in more independent, relevant variables (see Step 2 from my previous response: school access, teacher-pupil ratio, infrastructure, urbanization, etc.), which will deepen your interpretation."
      ],
      "metadata": {
        "id": "5CRa22ASMXiB"
      }
    },
    {
      "cell_type": "code",
      "source": [],
      "metadata": {
        "id": "fnL6LoecLvgA"
      },
      "execution_count": null,
      "outputs": []
    }
  ],
  "metadata": {
    "colab": {
      "provenance": [],
      "include_colab_link": true
    },
    "kernelspec": {
      "display_name": "Python 3",
      "name": "python3"
    },
    "language_info": {
      "name": "python"
    }
  },
  "nbformat": 4,
  "nbformat_minor": 0
}