{
  "cells": [
    {
      "cell_type": "markdown",
      "metadata": {
        "id": "view-in-github",
        "colab_type": "text"
      },
      "source": [
        "<a href=\"https://colab.research.google.com/github/call493/MLFC/blob/main/Poverty_and_Literacy_levels_correlation.ipynb\" target=\"_parent\"><img src=\"https://colab.research.google.com/assets/colab-badge.svg\" alt=\"Open In Colab\"/></a>"
      ]
    },
    {
      "cell_type": "markdown",
      "metadata": {
        "id": "LJJx-XlRUsdY"
      },
      "source": [
        "# **Exploring the link between literacy rates and poverty in Kenya - A Socio-Economic Analysis**\n",
        "\n",
        "\n",
        "\n",
        "---\n",
        "\n",
        "\n",
        "\n",
        "Braxton Mandara, DSAIL\n",
        "\n",
        "15-09-2025"
      ]
    },
    {
      "cell_type": "markdown",
      "source": [
        "**Abstract**\n",
        "\n",
        "This notebook explores the relationship between literacy rates and poverty levels across Kenyan counties through a comprehensive, spatially-informed data analysis. It integrates multiple datasets—including county boundaries, school locations, population census, literacy rates, and poverty indicators—visualizing the geographic distribution of educational infrastructure and population density.\n",
        "\n",
        "By merging and normalizing these datasets, the notebook enables statistical analyses such as correlation and regression, revealing a strong, statistically significant negative association between poverty rates and literacy rates. Interactive and static maps highlight regional disparities in school access and population, while scatter plots and heatmaps illustrate key socioeconomic patterns.\n",
        "\n",
        "The notebook also identifies outlier counties and evaluates the predictive power of poverty and demographic indicators for literacy outcomes. Overall, this work demonstrates how geospatial data blending and statistical modeling can uncover critical insights into educational equity and poverty, informing policy and resource allocation in Kenya."
      ],
      "metadata": {
        "id": "0Cs--A5Qp2oK"
      }
    },
    {
      "cell_type": "markdown",
      "metadata": {
        "id": "TFk-B_JCTvQ9"
      },
      "source": [
        "# **Step 1: Initial Setup**\n",
        "\n",
        "Installing Python packages which we will use to download, model and analyze map features and other spatial data from OpenStreetMap."
      ]
    },
    {
      "cell_type": "code",
      "execution_count": null,
      "metadata": {
        "id": "o8BCaRk-TLZI"
      },
      "outputs": [],
      "source": [
        "%%capture\n",
        "%pip install osmnx"
      ]
    },
    {
      "cell_type": "code",
      "execution_count": null,
      "metadata": {
        "id": "BXehC5ygVm58"
      },
      "outputs": [],
      "source": [
        "import osmnx as ox\n",
        "import matplotlib.pyplot as plt\n",
        "import warnings\n",
        "import math\n",
        "import pandas as pd\n",
        "\n",
        "warnings.filterwarnings(\"ignore\", category=FutureWarning, module='osmnx')"
      ]
    },
    {
      "cell_type": "markdown",
      "source": [
        "# **Step 2 : Plot map of Kenya**"
      ],
      "metadata": {
        "id": "P4eDIDrNJLg8"
      }
    },
    {
      "cell_type": "markdown",
      "metadata": {
        "id": "Vw22ZezaV2Tx"
      },
      "source": [
        "Plotting map of Kenya"
      ]
    },
    {
      "cell_type": "code",
      "source": [
        "!git clone https://github.com/call493/fynesse.git\n",
        "import sys\n",
        "sys.path.append(\"/content/fynesse\")"
      ],
      "metadata": {
        "id": "NqsZ6hGNFEE4"
      },
      "execution_count": null,
      "outputs": []
    },
    {
      "cell_type": "code",
      "source": [
        "%cd /content/fynesse\n",
        "!git pull origin main"
      ],
      "metadata": {
        "id": "WNRL67HP61-C"
      },
      "execution_count": null,
      "outputs": []
    },
    {
      "cell_type": "code",
      "source": [
        "import fynesse"
      ],
      "metadata": {
        "id": "LeRQNGFAFMvZ"
      },
      "execution_count": null,
      "outputs": []
    },
    {
      "cell_type": "code",
      "source": [
        "fynesse.access.plot_map(\"Kenya\")"
      ],
      "metadata": {
        "id": "y9uDnv8DFQD6"
      },
      "execution_count": null,
      "outputs": []
    },
    {
      "cell_type": "markdown",
      "source": [
        "Let us proceed to plot the county boundaries."
      ],
      "metadata": {
        "id": "JiXh9GceJbTq"
      }
    },
    {
      "cell_type": "code",
      "execution_count": null,
      "metadata": {
        "id": "ZViob0ymXINu"
      },
      "outputs": [],
      "source": [
        "import geopandas as gpd\n",
        "import matplotlib.pyplot as plt\n",
        "\n",
        "# URL to the GeoJSON file for Kenyan counties (ADM1) from GeoBoundaries\n",
        "geojson_url = \"https://github.com/wmgeolab/geoBoundaries/raw/9469f09/releaseData/gbOpen/KEN/ADM1/geoBoundaries-KEN-ADM1.geojson\"\n",
        "\n",
        "kenya_gdf = gpd.read_file(geojson_url)\n",
        "\n",
        "fig, ax = plt.subplots(figsize=(10, 10))\n",
        "kenya_gdf.boundary.plot(ax=ax, edgecolor='blue', linewidth=1)\n",
        "\n",
        "ax.set_title(\"Kenya County Boundaries\")\n",
        "\n",
        "plt.show()"
      ]
    },
    {
      "cell_type": "markdown",
      "metadata": {
        "id": "cDeSgZJvmI56"
      },
      "source": [
        "# **Step 3 : Schools distribution in different counties**"
      ]
    },
    {
      "cell_type": "markdown",
      "source": [
        "I proceed to look at how primary schools are distributed in the country using the school geolocation (coordinates) data from schools.json file which has details for Kenyan schools in the year 2020. This dataset was obtained from Energydata ---> https://energydata.info/dataset/kenya-schools#"
      ],
      "metadata": {
        "id": "nM30FfuSdWHA"
      }
    },
    {
      "cell_type": "code",
      "source": [
        "fynesse.assess.plot_primary_schools(\n",
        "    schools_file=\"https://raw.githubusercontent.com/call493/MLFC/main/schools.json\",\n",
        "    geojson_url=\"https://github.com/wmgeolab/geoBoundaries/raw/9469f09/releaseData/gbOpen/KEN/ADM1/geoBoundaries-KEN-ADM1.geojson\"\n",
        ")"
      ],
      "metadata": {
        "id": "lgu2PpHZLyxO"
      },
      "execution_count": null,
      "outputs": []
    },
    {
      "cell_type": "markdown",
      "source": [
        "## Let us look at data for primary schools and secondary schools"
      ],
      "metadata": {
        "id": "-qLcqbafxn4r"
      }
    },
    {
      "cell_type": "markdown",
      "source": [
        "How are primary schools and secondary schools distributed across the country in different counties."
      ],
      "metadata": {
        "id": "W5hrS_29lJK4"
      }
    },
    {
      "cell_type": "code",
      "source": [
        "#reload fyness.assess modules\n",
        "\n",
        "import importlib\n",
        "import fynesse.assess\n",
        "importlib.reload(fynesse.assess)\n"
      ],
      "metadata": {
        "id": "JoWaY4Nngqi-"
      },
      "execution_count": null,
      "outputs": []
    },
    {
      "cell_type": "code",
      "source": [
        "fynesse.assess.plot_schools_on_county_boundaries()"
      ],
      "metadata": {
        "id": "Aw5xfHY9STuE"
      },
      "execution_count": null,
      "outputs": []
    },
    {
      "cell_type": "markdown",
      "source": [
        "From the look of things, there are more primary schools than secondary schools, we will be proving that in the following cells."
      ],
      "metadata": {
        "id": "Ys9lsPnJlQvd"
      }
    },
    {
      "cell_type": "markdown",
      "metadata": {
        "id": "6bdfb43f"
      },
      "source": [
        "## Obtain and Prepare Population Data\n",
        "\n",
        "The Kenya National Bureau of Statistics (KNBS) provides population data. I will search for the 2019 Census data which includes population counts by county. I will use the data from the following source:\n",
        "\n",
        "https://www.knbs.or.ke/wp-content/uploads/2023/09/2019-Kenya-population-and-Housing-Census-Volume-1-Population-By-County-And-Sub-County.pdf\n",
        "\n",
        "Specifically, the 2019 Kenya Population and Housing Census results. I will look for data at the county level. The dataset used here was extracted from the PDF containing the population census report (page 7)."
      ]
    },
    {
      "cell_type": "code",
      "metadata": {
        "id": "14a8fad5"
      },
      "source": [
        "import pandas as pd\n",
        "import os\n",
        "\n",
        "population_file_url = \"https://raw.githubusercontent.com/call493/MLFC/main/kenya_population_by_county_2019.csv\"\n",
        "\n",
        "try:\n",
        "    population_df = pd.read_csv(population_file_url)\n",
        "    print(\"Population data loaded successfully!\")\n",
        "    display(population_df.head())\n",
        "except Exception as e:\n",
        "    print(f\"An error occurred while reading the CSV file: {e}\")"
      ],
      "execution_count": null,
      "outputs": []
    },
    {
      "cell_type": "markdown",
      "metadata": {
        "id": "d073514b"
      },
      "source": [
        "### Merge Population Data with County Boundaries\n",
        "\n",
        "Now, I will merge the population data with the county boundaries GeoDataFrame. I will use the 'County' column in the population DataFrame and the 'ADM1NAME' column in the county GeoDataFrame as the common key for merging. I will perform a left merge to keep all the county geometries and add the population data where a match is found."
      ]
    },
    {
      "cell_type": "code",
      "metadata": {
        "id": "5983e083"
      },
      "source": [
        "# It's important to check if the county names match exactly in both dataframes.\n",
        "# Let's print the unique county names from both dataframes to compare.\n",
        "print(\"Unique counties in population_df:\")\n",
        "print(population_df['County'].unique())\n",
        "\n",
        "print(\"\\nColumns in kenya_gdf:\")\n",
        "print(kenya_gdf['shapeName'].unique())"
      ],
      "execution_count": null,
      "outputs": []
    },
    {
      "cell_type": "markdown",
      "source": [
        "The names do not match, let us see the output we will get when we plot a population heatmap"
      ],
      "metadata": {
        "id": "5_QM5WUyayCA"
      }
    },
    {
      "cell_type": "markdown",
      "metadata": {
        "id": "bd2eabd5"
      },
      "source": [
        "### Population Heatmap by County\n",
        "\n",
        "This heatmap visualizes the population distribution across Kenyan counties based on the 2019 census data. Counties with higher populations are shown in darker shades, while those with lower populations are in lighter shades."
      ]
    },
    {
      "cell_type": "code",
      "source": [
        "fynesse.assess.plot_population_heatmap(kenya_gdf, population_df)"
      ],
      "metadata": {
        "id": "0-9gKn45UVsz"
      },
      "execution_count": null,
      "outputs": []
    },
    {
      "cell_type": "markdown",
      "source": [
        "Same map but for interactivity using follium"
      ],
      "metadata": {
        "id": "JeXXOrGacTMq"
      }
    },
    {
      "cell_type": "code",
      "source": [
        "fynesse.assess.plot_interactive_population_map(kenya_gdf, population_df)"
      ],
      "metadata": {
        "id": "6eMhqnNMU9b9"
      },
      "execution_count": null,
      "outputs": []
    },
    {
      "cell_type": "markdown",
      "source": [
        "From the look of things we do not have population data for the following counties: Elgeyo Marakwet, Tharaka Nithi, Taita Taveta and Nairobi.\n",
        "\n",
        "Why is that?\n",
        "\n",
        "> The population datadata and the GeoDataFrame have different column names for these counties.\n",
        "\n",
        "In that case we have to normalize the data, to ensure that the merge works and we have a heatmap that covers data for all counties.\n",
        "\n"
      ],
      "metadata": {
        "id": "8etgZIDg_t_4"
      }
    },
    {
      "cell_type": "code",
      "source": [
        "print(population_df['County'].unique())"
      ],
      "metadata": {
        "id": "Q8dLfKd9nT53"
      },
      "execution_count": null,
      "outputs": []
    },
    {
      "cell_type": "code",
      "source": [],
      "metadata": {
        "id": "yk0LbpcdxRX_"
      },
      "execution_count": null,
      "outputs": []
    },
    {
      "cell_type": "markdown",
      "source": [
        "Let us use assess county name function."
      ],
      "metadata": {
        "id": "FNo94CIdxxCd"
      }
    },
    {
      "cell_type": "code",
      "source": [
        "from fynesse.assess import normalize_county_names\n",
        "\n",
        "# Apply to population DataFrame\n",
        "population_df['County'] = population_df['County'].apply(normalize_county_names)\n",
        "\n",
        "# Apply to geodataframe\n",
        "kenya_gdf['shapeName'] = kenya_gdf['shapeName'].apply(normalize_county_names)\n",
        "\n",
        "merged = kenya_gdf.merge(population_df, left_on='shapeName', right_on='County', how='left')\n"
      ],
      "metadata": {
        "id": "E8y0P5bRR-A8"
      },
      "execution_count": null,
      "outputs": []
    },
    {
      "cell_type": "code",
      "source": [
        "fynesse.assess.check_county_mismatches(kenya_gdf, population_df, merged)"
      ],
      "metadata": {
        "id": "bikUoI0wVVoZ"
      },
      "execution_count": null,
      "outputs": []
    },
    {
      "cell_type": "code",
      "source": [
        "# Check for any remaining mismatches\n",
        "pop_counties = set(population_df['County'].unique())\n",
        "geo_counties = set(kenya_gdf['shapeName'].unique())\n",
        "\n",
        "print(f\"\\nPopulation counties: {len(pop_counties)}\")\n",
        "print(f\"Geographic counties: {len(geo_counties)}\")\n",
        "print(f\"\\nCounties in population data but not in geographic data: {pop_counties - geo_counties}\")\n",
        "print(f\"Counties in geographic data but not in population data: {geo_counties - pop_counties}\")"
      ],
      "metadata": {
        "id": "-1usl--ZsvTW"
      },
      "execution_count": null,
      "outputs": []
    },
    {
      "cell_type": "code",
      "source": [
        "# Check for missing data\n",
        "missing = merged[merged[\"Total\"].isna()][[\"shapeName\"]]\n",
        "print(f\"\\nCounties with missing population data: {len(missing)}\")\n",
        "if len(missing) > 0:\n",
        "    print(missing)"
      ],
      "metadata": {
        "id": "SJNAGtWikwSl"
      },
      "execution_count": null,
      "outputs": []
    },
    {
      "cell_type": "code",
      "source": [
        "print(\"Unique counties in population_df:\")\n",
        "print(population_df['County'].unique())"
      ],
      "metadata": {
        "id": "W2C4fm2HpHIj"
      },
      "execution_count": null,
      "outputs": []
    },
    {
      "cell_type": "markdown",
      "source": [
        "Now let us check to confirm that the data has been normalized."
      ],
      "metadata": {
        "id": "nyMjJX_HBVCR"
      }
    },
    {
      "cell_type": "code",
      "source": [
        "fynesse.assess.plot_county_population_heatmap(merged)"
      ],
      "metadata": {
        "id": "nJdEBIgRV72I"
      },
      "execution_count": null,
      "outputs": []
    },
    {
      "cell_type": "markdown",
      "source": [
        "Let us proceed to make a comparison between the number of primary schools and secondary schools in each county."
      ],
      "metadata": {
        "id": "Ryj4Kwkmc21p"
      }
    },
    {
      "cell_type": "code",
      "source": [
        "from fynesse.assess import normalize_county_names\n",
        "m = fynesse.assess.plot_schools_choropleth_map(normalize_func=normalize_county_names)\n",
        "m  # displays the map in"
      ],
      "metadata": {
        "id": "S5FPSaKBZk5J"
      },
      "execution_count": null,
      "outputs": []
    },
    {
      "cell_type": "markdown",
      "source": [
        "[https://www.knbs.or.ke/wp-content/uploads/2023/09/2019-Kenya-population-and-Housing-Census-Analytical-Report-on-Education-and-Training.pdf](https://www.knbs.or.ke/wp-content/uploads/2023/09/2019-Kenya-population-and-Housing-Census-Analytical-Report-on-Education-and-Training.pdf)\n"
      ],
      "metadata": {
        "id": "P6kdNnAVhCM_"
      }
    },
    {
      "cell_type": "markdown",
      "source": [
        "# Literacy In Kenya"
      ],
      "metadata": {
        "id": "emG5J9DNDbmh"
      }
    },
    {
      "cell_type": "markdown",
      "source": [
        "According to UNESCO https://www.theglobaleconomy.com/Kenya/Literacy_rate/ Kenya's literacy rate is at 82.88%.\n",
        "\n",
        "To bring things into proper perspective, basic literacy can be defined as the ability to both read and write with understanding a short, simple statement about everyday life in English or Kiswahili."
      ],
      "metadata": {
        "id": "DsPrj3otDfmL"
      }
    },
    {
      "cell_type": "markdown",
      "source": [
        "The dataset I used here I obtained it from"
      ],
      "metadata": {
        "id": "BWkIkLsPoGsV"
      }
    },
    {
      "cell_type": "code",
      "source": [
        "import pandas as pd\n",
        "df = pd.read_csv('https://raw.githubusercontent.com/call493/MLFC/main/kenya_literacy_2019.csv')\n",
        "display(df.head())\n"
      ],
      "metadata": {
        "id": "3IFZYxnQ-5Sy"
      },
      "execution_count": null,
      "outputs": []
    },
    {
      "cell_type": "markdown",
      "source": [
        "Data used here was obtained from Kenya Poverty Report 2019 https://www.knbs.or.ke/wp-content/uploads/2023/09/The-Kenya-Poverty-Report-2019.pdf"
      ],
      "metadata": {
        "id": "dwX0SQKUpZSj"
      }
    },
    {
      "cell_type": "code",
      "source": [
        "# Load the poverty rate dataset\n",
        "import pandas as pd\n",
        "\n",
        "# Load poverty data from the specified URL\n",
        "poverty_df = pd.read_csv('https://raw.githubusercontent.com/call493/MLFC/main/kenya_poverty_2019.csv')\n",
        "print(\"Poverty data loaded successfully!\")\n",
        "print(f\"Poverty dataset shape: {poverty_df.shape}\")\n",
        "print(f\"Poverty dataset columns: {poverty_df.columns.tolist()}\")\n",
        "display(poverty_df.head())"
      ],
      "metadata": {
        "id": "KI2_VnKthCxU"
      },
      "execution_count": null,
      "outputs": []
    },
    {
      "cell_type": "code",
      "source": [
        "# Merge poverty_df with the previously loaded literacy dataset\n",
        "# First, let's examine both dataframes and ensure proper column names\n",
        "print(\"Columns in poverty_df:\", poverty_df.columns.tolist())\n",
        "print(\"Columns in df (literacy):\", df.columns.tolist())"
      ],
      "metadata": {
        "id": "rojznVFcah-y"
      },
      "execution_count": null,
      "outputs": []
    },
    {
      "cell_type": "code",
      "source": [
        "# Check county names to identify any inconsistencies\n",
        "print(\"\\nCounties in poverty_df:\")\n",
        "print(sorted(poverty_df['County'].unique()))\n",
        "print(\"\\nCounties in literacy df:\")\n",
        "print(sorted(df['County'].unique()))"
      ],
      "metadata": {
        "id": "SdcZhG2farXh"
      },
      "execution_count": null,
      "outputs": []
    },
    {
      "cell_type": "code",
      "source": [
        "merged_df = fynesse.assess.merge_literacy_and_poverty(df, poverty_df)"
      ],
      "metadata": {
        "id": "LUq5DqMFG_Ov"
      },
      "execution_count": null,
      "outputs": []
    },
    {
      "cell_type": "code",
      "source": [
        "df_analysis, corr_coef, p_value = fynesse.assess.clean_and_summarize_merged_df(merged_df)"
      ],
      "metadata": {
        "id": "12lNdrHUHfSc"
      },
      "execution_count": null,
      "outputs": []
    },
    {
      "cell_type": "code",
      "source": [
        "print(df.columns.tolist())\n",
        "print(df_analysis.columns.tolist())"
      ],
      "metadata": {
        "id": "nX31U7EWO8jP"
      },
      "execution_count": null,
      "outputs": []
    },
    {
      "cell_type": "code",
      "source": [
        "results = fynesse.assess.correlate_and_plot_poverty_literacy(df_analysis)"
      ],
      "metadata": {
        "id": "z0drQrXyH3pE"
      },
      "execution_count": null,
      "outputs": []
    },
    {
      "cell_type": "markdown",
      "source": [
        "These results show a strong negative correlation between poverty rate and literacy rate across Kenya’s counties for 2019:\n",
        "\n",
        "*   Pearson correlation coefficient: -0.841\n",
        "\n",
        "> This value is close to -1, meaning as poverty rates increase, literacy rates tend to decrease in a nearly linear pattern.\n",
        "\n",
        "> The p-value (1.72e-12) is extremely small, indicating this result is highly statistically significant—the likelihood that this correlation is due to random chance is virtually zero.\n",
        "\n",
        "*  Spearman correlation coefficient: -0.785\n",
        "\n",
        "> This also shows a strong negative relationship, based on ranking the counties (not just the exact values).\n",
        "\n",
        "> The small p-value (4.54e-10) again means the evidence is very strong statistically.\n",
        "\n",
        "\n",
        "Counties with higher poverty rates have much lower literacy rates, and this inverse association is very strong."
      ],
      "metadata": {
        "id": "36sLKwSAGeXe"
      }
    },
    {
      "cell_type": "markdown",
      "source": [
        "### Let us identify outlier counties\n",
        "Outliers are counties whose literacy rates are unusually high or low compared to what you’d expect for their poverty level."
      ],
      "metadata": {
        "id": "qUAWpXfJ4AHI"
      }
    },
    {
      "cell_type": "code",
      "source": [
        "outliers_df, model = fynesse.assess.identify_outlier_counties_linear(df_analysis)"
      ],
      "metadata": {
        "id": "9I6gA6WJIIAH"
      },
      "execution_count": null,
      "outputs": []
    },
    {
      "cell_type": "markdown",
      "source": [
        "### Multivariate Regression\n"
      ],
      "metadata": {
        "id": "KwgLqm_iHNHO"
      }
    },
    {
      "cell_type": "code",
      "source": [
        "ols_model = fynesse.assess.fit_multivariate_ols(df_analysis)"
      ],
      "metadata": {
        "id": "2HEF3njgIjsP"
      },
      "execution_count": null,
      "outputs": []
    },
    {
      "cell_type": "markdown",
      "source": [
        "* Model fit (R-squared = 0.710): 71% of the variation in county literacy rates is explained by four predictors (poverty rate, poverty gap, poverty severity, and population). This is a strong fit.\n",
        "\n",
        "* Predictor coefficients & significance: The most important part of interpretation is the coefficients and their p-values:\n",
        "\n",
        "  const (Intercept): 95.65 (the predicted literacy rate if all other values are zero; not usually interpreted on its own)\n",
        "\n",
        "  Headcount_Rate_Percent: -0.2375\n",
        "  Negative, as expected, but p-value = 0.687, not statistically significant (doesn't rule out chance).\n",
        "\n",
        "Population_Thousands: 0.0005, p = 0.761 (not significant)\n",
        "\n",
        "Poverty_Gap_Percent: -1.68, p = 0.596 (not significant)\n",
        "\n",
        "Severity_Percent: 1.89, p = 0.591 (not significant)\n",
        "\n",
        "A statistically significant coefficient usually has p < 0.05.\n",
        "\n",
        "Overall model significance (F-statistic p = 9.06e-10):\n",
        "My combined model is statistically significant (very likely to mirror a true association in the population).\n",
        "\n",
        "Multicollinearity warning (\"condition number is large, ... strong multicollinearity\"):\n",
        "\n",
        "Several poverty measures in the model are highly correlated with each other. Multicollinearity makes it hard to separate their individual effects. This leads to unstable and/or non-significant individual coefficients—even if the group is important together.\n",
        "\n",
        "*The model as a whole predicts literacy levels across counties well, and you see the expected negative direction for Headcount_Rate_Percent, but overlapping predictor information clouds the significance of individual variables. The strongest message remains that poverty is negatively associated with literacy at the county level.*\n",
        "\n",
        "> The model fits well overall (high R²). The poverty and education variables are so highly correlated (collinear) that their individual effects aren’t statistically distinguishable with the current predictors."
      ],
      "metadata": {
        "id": "wvEgpZZMIuM9"
      }
    },
    {
      "cell_type": "markdown",
      "source": [],
      "metadata": {
        "id": "UEFFbDWrwuS-"
      }
    },
    {
      "cell_type": "markdown",
      "source": [
        "Classification"
      ],
      "metadata": {
        "id": "eC4PvcodJEnA"
      }
    },
    {
      "cell_type": "code",
      "source": [
        "output = fynesse.assess.classify_high_literacy(df_analysis)"
      ],
      "metadata": {
        "id": "QUd00DKNI4T-"
      },
      "execution_count": null,
      "outputs": []
    },
    {
      "cell_type": "markdown",
      "source": [
        "Low Literacy:\n",
        "\n",
        "* Precision (0.56): Of counties predicted as “Low Literacy,” 56% are actually low literacy.\n",
        "\n",
        "* Recall (0.83): Of all actual “Low Literacy” counties, 83% were correctly predicted.\n",
        "\n",
        "* F1-score (0.67): Harmonic mean of precision and recall.\n",
        "\n",
        "High Literacy:\n",
        "\n",
        "* Precision (0.75): Of counties predicted as “High Literacy,” 75% are correct.\n",
        "\n",
        "* Recall (0.43): Of all actual high literacy counties, only 43% were correctly identified.\n",
        "\n",
        "* F1-score (0.55): Lower due to missing more “High Literacy” cases.\n",
        "\n",
        "Overall Accuracy: 0.62 (62%) — The model correctly classifies 62% of counties."
      ],
      "metadata": {
        "id": "48XNCOpVJWmo"
      }
    },
    {
      "cell_type": "markdown",
      "source": [
        "### Reduce Collinear Predictors\n",
        "Let us keep one poverty-related variable, such as Headcount_Rate_Percent.\n",
        "Why? Using multiple similar poverty indices creates redundancy and statistical noise."
      ],
      "metadata": {
        "id": "jKb-SBmmLibN"
      }
    },
    {
      "cell_type": "code",
      "source": [
        "reduced_model = fynesse.assess.fit_reduced_ols(df_analysis)"
      ],
      "metadata": {
        "id": "rsUpLiqvJLjx"
      },
      "execution_count": null,
      "outputs": []
    },
    {
      "cell_type": "markdown",
      "source": [
        "#### Model Fit\n",
        "\n",
        "R-squared: 0.707\n",
        "About 71% of the variation in literacy rates is explained by the model.\n",
        "\n",
        "#### Coefficients\n",
        "\n",
        "Intercept (const): 97.28\n",
        "Theoretically, if poverty and population were zero, literacy rate would be about 97% (not literally meaningful, but shows baseline in the model).\n",
        "\n",
        "Headcount_Rate_Percent: -0.53\n",
        "For each 1 percentage point increase in poverty rate, the literacy rate decreases by about 0.53 percentage points.\n",
        "\n",
        "p-value: 0.000 — Statistically highly significant. This is a real, robust effect.\n",
        "\n",
        "Population_Thousands: Not significant (p = 0.821)\n",
        "\n",
        "This predictor does not have a meaningful independent effect in the data."
      ],
      "metadata": {
        "id": "5CRa22ASMXiB"
      }
    },
    {
      "cell_type": "code",
      "source": [],
      "metadata": {
        "id": "fnL6LoecLvgA"
      },
      "execution_count": null,
      "outputs": []
    }
  ],
  "metadata": {
    "colab": {
      "provenance": [],
      "include_colab_link": true
    },
    "kernelspec": {
      "display_name": "Python 3",
      "name": "python3"
    },
    "language_info": {
      "name": "python"
    }
  },
  "nbformat": 4,
  "nbformat_minor": 0
}