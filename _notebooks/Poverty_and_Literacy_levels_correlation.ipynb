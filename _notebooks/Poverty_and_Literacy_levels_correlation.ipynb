{
  "nbformat": 4,
  "nbformat_minor": 0,
  "metadata": {
    "colab": {
      "provenance": [],
      "authorship_tag": "ABX9TyMxG8w01MBx1ktr0031o4Rw",
      "include_colab_link": true
    },
    "kernelspec": {
      "name": "python3",
      "display_name": "Python 3"
    },
    "language_info": {
      "name": "python"
    }
  },
  "cells": [
    {
      "cell_type": "markdown",
      "metadata": {
        "id": "view-in-github",
        "colab_type": "text"
      },
      "source": [
        "<a href=\"https://colab.research.google.com/github/call493/MLFC/blob/main/_notebooks/Poverty_and_Literacy_levels_correlation.ipynb\" target=\"_parent\"><img src=\"https://colab.research.google.com/assets/colab-badge.svg\" alt=\"Open In Colab\"/></a>"
      ]
    },
    {
      "cell_type": "markdown",
      "source": [
        "# Exploring the link between literacy rates and poverty in Kenya - A Soci-Economic Analysis\n",
        "\n",
        "\n",
        "\n",
        "---\n",
        "\n",
        "\n",
        "\n",
        "Braxton Mandara, DSAIL\n",
        "\n",
        "15-09-2025"
      ],
      "metadata": {
        "id": "LJJx-XlRUsdY"
      }
    },
    {
      "cell_type": "markdown",
      "source": [
        "# **OSMnx Setup**\n",
        "\n",
        "Installing Python packages which we will use to download, model and analyze map features and other spatial data from OpenStreetMap.*italicized text*\n",
        "\n"
      ],
      "metadata": {
        "id": "TFk-B_JCTvQ9"
      }
    },
    {
      "cell_type": "code",
      "execution_count": 1,
      "metadata": {
        "id": "o8BCaRk-TLZI"
      },
      "outputs": [],
      "source": [
        "%%capture\n",
        "%pip install osmnx"
      ]
    },
    {
      "cell_type": "code",
      "source": [
        "import osmnx as ox\n",
        "import matplotlib.pyplot as plt\n",
        "import warnings\n",
        "import math\n",
        "warnings.filterwarnings(\"ignore\", category=FutureWarning, module='osmnx')"
      ],
      "metadata": {
        "id": "BXehC5ygVm58"
      },
      "execution_count": 2,
      "outputs": []
    },
    {
      "cell_type": "markdown",
      "source": [
        "Downloading data for Kenya"
      ],
      "metadata": {
        "id": "Vw22ZezaV2Tx"
      }
    },
    {
      "cell_type": "code",
      "source": [
        "place_name = \"Nyeri, Kenya\"\n",
        "latitude = -0.4371\n",
        "longitude = 36.9580\n",
        "placestub = place_name.lower().replace(' ', '-').replace(',','')"
      ],
      "metadata": {
        "id": "FbgJxOZRVuph"
      },
      "execution_count": null,
      "outputs": []
    }
  ]
}